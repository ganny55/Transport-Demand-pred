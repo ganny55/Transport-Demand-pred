{
 "cells": [
  {
   "cell_type": "code",
   "execution_count": 1,
   "id": "571b34f9",
   "metadata": {},
   "outputs": [],
   "source": [
    "#....................   import Library   ...........................\n",
    "\n",
    "import pandas as pd\n",
    "import numpy as np \n",
    "%matplotlib inline\n",
    "import matplotlib.pyplot as plt\n",
    "import seaborn as sns\n",
    "\n",
    "from sklearn.model_selection import train_test_split\n",
    "from sklearn.feature_selection import VarianceThreshold\n",
    "from sklearn.model_selection import cross_val_score\n",
    "from sklearn.model_selection import RepeatedKFold\n",
    "from sklearn.ensemble import GradientBoostingRegressor\n",
    "from sklearn.metrics import mean_absolute_error, mean_squared_error,r2_score\n"
   ]
  },
  {
   "cell_type": "code",
   "execution_count": 2,
   "id": "fe5694d3",
   "metadata": {},
   "outputs": [],
   "source": [
    "path=('C://Users/Ghani/Downloads/Nairobi Transport Data/train_revised.csv')\n",
    "df = pd.read_csv(path)"
   ]
  },
  {
   "cell_type": "code",
   "execution_count": 3,
   "id": "dde5edb5",
   "metadata": {},
   "outputs": [
    {
     "data": {
      "text/html": [
       "<div>\n",
       "<style scoped>\n",
       "    .dataframe tbody tr th:only-of-type {\n",
       "        vertical-align: middle;\n",
       "    }\n",
       "\n",
       "    .dataframe tbody tr th {\n",
       "        vertical-align: top;\n",
       "    }\n",
       "\n",
       "    .dataframe thead th {\n",
       "        text-align: right;\n",
       "    }\n",
       "</style>\n",
       "<table border=\"1\" class=\"dataframe\">\n",
       "  <thead>\n",
       "    <tr style=\"text-align: right;\">\n",
       "      <th></th>\n",
       "      <th>ride_id</th>\n",
       "      <th>seat_number</th>\n",
       "      <th>payment_method</th>\n",
       "      <th>payment_receipt</th>\n",
       "      <th>travel_date</th>\n",
       "      <th>travel_time</th>\n",
       "      <th>travel_from</th>\n",
       "      <th>travel_to</th>\n",
       "      <th>car_type</th>\n",
       "      <th>max_capacity</th>\n",
       "    </tr>\n",
       "  </thead>\n",
       "  <tbody>\n",
       "    <tr>\n",
       "      <th>0</th>\n",
       "      <td>1442</td>\n",
       "      <td>15A</td>\n",
       "      <td>Mpesa</td>\n",
       "      <td>UZUEHCBUSO</td>\n",
       "      <td>17-10-17</td>\n",
       "      <td>7:15</td>\n",
       "      <td>Migori</td>\n",
       "      <td>Nairobi</td>\n",
       "      <td>Bus</td>\n",
       "      <td>49</td>\n",
       "    </tr>\n",
       "    <tr>\n",
       "      <th>1</th>\n",
       "      <td>5437</td>\n",
       "      <td>14A</td>\n",
       "      <td>Mpesa</td>\n",
       "      <td>TIHLBUSGTE</td>\n",
       "      <td>19-11-17</td>\n",
       "      <td>7:12</td>\n",
       "      <td>Migori</td>\n",
       "      <td>Nairobi</td>\n",
       "      <td>Bus</td>\n",
       "      <td>49</td>\n",
       "    </tr>\n",
       "    <tr>\n",
       "      <th>2</th>\n",
       "      <td>5710</td>\n",
       "      <td>8B</td>\n",
       "      <td>Mpesa</td>\n",
       "      <td>EQX8Q5G19O</td>\n",
       "      <td>26-11-17</td>\n",
       "      <td>7:05</td>\n",
       "      <td>Keroka</td>\n",
       "      <td>Nairobi</td>\n",
       "      <td>Bus</td>\n",
       "      <td>49</td>\n",
       "    </tr>\n",
       "    <tr>\n",
       "      <th>3</th>\n",
       "      <td>5777</td>\n",
       "      <td>19A</td>\n",
       "      <td>Mpesa</td>\n",
       "      <td>SGP18CL0ME</td>\n",
       "      <td>27-11-17</td>\n",
       "      <td>7:10</td>\n",
       "      <td>Homa Bay</td>\n",
       "      <td>Nairobi</td>\n",
       "      <td>Bus</td>\n",
       "      <td>49</td>\n",
       "    </tr>\n",
       "    <tr>\n",
       "      <th>4</th>\n",
       "      <td>5778</td>\n",
       "      <td>11A</td>\n",
       "      <td>Mpesa</td>\n",
       "      <td>BM97HFRGL9</td>\n",
       "      <td>27-11-17</td>\n",
       "      <td>7:12</td>\n",
       "      <td>Migori</td>\n",
       "      <td>Nairobi</td>\n",
       "      <td>Bus</td>\n",
       "      <td>49</td>\n",
       "    </tr>\n",
       "  </tbody>\n",
       "</table>\n",
       "</div>"
      ],
      "text/plain": [
       "   ride_id seat_number payment_method payment_receipt travel_date travel_time  \\\n",
       "0     1442         15A          Mpesa      UZUEHCBUSO    17-10-17        7:15   \n",
       "1     5437         14A          Mpesa      TIHLBUSGTE    19-11-17        7:12   \n",
       "2     5710          8B          Mpesa      EQX8Q5G19O    26-11-17        7:05   \n",
       "3     5777         19A          Mpesa      SGP18CL0ME    27-11-17        7:10   \n",
       "4     5778         11A          Mpesa      BM97HFRGL9    27-11-17        7:12   \n",
       "\n",
       "  travel_from travel_to car_type  max_capacity  \n",
       "0      Migori   Nairobi      Bus            49  \n",
       "1      Migori   Nairobi      Bus            49  \n",
       "2      Keroka   Nairobi      Bus            49  \n",
       "3    Homa Bay   Nairobi      Bus            49  \n",
       "4      Migori   Nairobi      Bus            49  "
      ]
     },
     "execution_count": 3,
     "metadata": {},
     "output_type": "execute_result"
    }
   ],
   "source": [
    "df.head()"
   ]
  },
  {
   "cell_type": "code",
   "execution_count": 4,
   "id": "3377d90d",
   "metadata": {},
   "outputs": [
    {
     "data": {
      "text/plain": [
       "(51645, 10)"
      ]
     },
     "execution_count": 4,
     "metadata": {},
     "output_type": "execute_result"
    }
   ],
   "source": [
    "df.shape"
   ]
  },
  {
   "cell_type": "code",
   "execution_count": 5,
   "id": "ea122dba",
   "metadata": {},
   "outputs": [
    {
     "data": {
      "text/plain": [
       "ride_id            0\n",
       "seat_number        0\n",
       "payment_method     0\n",
       "payment_receipt    0\n",
       "travel_date        0\n",
       "travel_time        0\n",
       "travel_from        0\n",
       "travel_to          0\n",
       "car_type           0\n",
       "max_capacity       0\n",
       "dtype: int64"
      ]
     },
     "execution_count": 5,
     "metadata": {},
     "output_type": "execute_result"
    }
   ],
   "source": [
    "df.isna().sum()"
   ]
  },
  {
   "cell_type": "code",
   "execution_count": 6,
   "id": "e01e260c",
   "metadata": {},
   "outputs": [
    {
     "name": "stdout",
     "output_type": "stream",
     "text": [
      "<class 'pandas.core.frame.DataFrame'>\n",
      "RangeIndex: 51645 entries, 0 to 51644\n",
      "Data columns (total 10 columns):\n",
      " #   Column           Non-Null Count  Dtype \n",
      "---  ------           --------------  ----- \n",
      " 0   ride_id          51645 non-null  int64 \n",
      " 1   seat_number      51645 non-null  object\n",
      " 2   payment_method   51645 non-null  object\n",
      " 3   payment_receipt  51645 non-null  object\n",
      " 4   travel_date      51645 non-null  object\n",
      " 5   travel_time      51645 non-null  object\n",
      " 6   travel_from      51645 non-null  object\n",
      " 7   travel_to        51645 non-null  object\n",
      " 8   car_type         51645 non-null  object\n",
      " 9   max_capacity     51645 non-null  int64 \n",
      "dtypes: int64(2), object(8)\n",
      "memory usage: 3.9+ MB\n"
     ]
    }
   ],
   "source": [
    "df.info()"
   ]
  },
  {
   "cell_type": "code",
   "execution_count": 7,
   "id": "e5a4e4b5",
   "metadata": {},
   "outputs": [
    {
     "data": {
      "text/html": [
       "<div>\n",
       "<style scoped>\n",
       "    .dataframe tbody tr th:only-of-type {\n",
       "        vertical-align: middle;\n",
       "    }\n",
       "\n",
       "    .dataframe tbody tr th {\n",
       "        vertical-align: top;\n",
       "    }\n",
       "\n",
       "    .dataframe thead th {\n",
       "        text-align: right;\n",
       "    }\n",
       "</style>\n",
       "<table border=\"1\" class=\"dataframe\">\n",
       "  <thead>\n",
       "    <tr style=\"text-align: right;\">\n",
       "      <th></th>\n",
       "      <th>seat_number</th>\n",
       "      <th>payment_method</th>\n",
       "      <th>payment_receipt</th>\n",
       "      <th>travel_date</th>\n",
       "      <th>travel_time</th>\n",
       "      <th>travel_from</th>\n",
       "      <th>travel_to</th>\n",
       "      <th>car_type</th>\n",
       "    </tr>\n",
       "  </thead>\n",
       "  <tbody>\n",
       "    <tr>\n",
       "      <th>count</th>\n",
       "      <td>51645</td>\n",
       "      <td>51645</td>\n",
       "      <td>51645</td>\n",
       "      <td>51645</td>\n",
       "      <td>51645</td>\n",
       "      <td>51645</td>\n",
       "      <td>51645</td>\n",
       "      <td>51645</td>\n",
       "    </tr>\n",
       "    <tr>\n",
       "      <th>unique</th>\n",
       "      <td>61</td>\n",
       "      <td>2</td>\n",
       "      <td>51645</td>\n",
       "      <td>149</td>\n",
       "      <td>78</td>\n",
       "      <td>17</td>\n",
       "      <td>1</td>\n",
       "      <td>2</td>\n",
       "    </tr>\n",
       "    <tr>\n",
       "      <th>top</th>\n",
       "      <td>1</td>\n",
       "      <td>Mpesa</td>\n",
       "      <td>UZUEHCBUSO</td>\n",
       "      <td>10-12-17</td>\n",
       "      <td>7:09</td>\n",
       "      <td>Kisii</td>\n",
       "      <td>Nairobi</td>\n",
       "      <td>Bus</td>\n",
       "    </tr>\n",
       "    <tr>\n",
       "      <th>freq</th>\n",
       "      <td>2065</td>\n",
       "      <td>51532</td>\n",
       "      <td>1</td>\n",
       "      <td>856</td>\n",
       "      <td>3926</td>\n",
       "      <td>22607</td>\n",
       "      <td>51645</td>\n",
       "      <td>31985</td>\n",
       "    </tr>\n",
       "  </tbody>\n",
       "</table>\n",
       "</div>"
      ],
      "text/plain": [
       "       seat_number payment_method payment_receipt travel_date travel_time  \\\n",
       "count        51645          51645           51645       51645       51645   \n",
       "unique          61              2           51645         149          78   \n",
       "top              1          Mpesa      UZUEHCBUSO    10-12-17        7:09   \n",
       "freq          2065          51532               1         856        3926   \n",
       "\n",
       "       travel_from travel_to car_type  \n",
       "count        51645     51645    51645  \n",
       "unique          17         1        2  \n",
       "top          Kisii   Nairobi      Bus  \n",
       "freq         22607     51645    31985  "
      ]
     },
     "execution_count": 7,
     "metadata": {},
     "output_type": "execute_result"
    }
   ],
   "source": [
    "df.describe(include=object)"
   ]
  },
  {
   "cell_type": "markdown",
   "id": "e5749a8b",
   "metadata": {},
   "source": [
    "## Summary:-\n",
    "\n",
    "    There are total 61 unique seats in this dataset\n",
    "\n",
    "    travelers have used 2 types of payment method and most of the people have used Mpesa to pay for their ticket.\n",
    "\n",
    "    There are 2 different types of car and most of them are bus.\n"
   ]
  },
  {
   "cell_type": "code",
   "execution_count": 8,
   "id": "82443e58",
   "metadata": {},
   "outputs": [
    {
     "data": {
      "text/plain": [
       "Index(['ride_id', 'seat_number', 'payment_method', 'payment_receipt',\n",
       "       'travel_date', 'travel_time', 'travel_from', 'travel_to', 'car_type',\n",
       "       'max_capacity'],\n",
       "      dtype='object')"
      ]
     },
     "execution_count": 8,
     "metadata": {},
     "output_type": "execute_result"
    }
   ],
   "source": [
    "df.columns"
   ]
  },
  {
   "cell_type": "code",
   "execution_count": 9,
   "id": "55965261",
   "metadata": {},
   "outputs": [
    {
     "data": {
      "image/png": "[encoded data removed]",
      "text/plain": [
       "<Figure size 432x288 with 1 Axes>"
      ]
     },
     "metadata": {
      "needs_background": "light"
     },
     "output_type": "display_data"
    },
    {
     "data": {
      "image/png": "[encoded data removed]",
      "text/plain": [
       "<Figure size 432x288 with 1 Axes>"
      ]
     },
     "metadata": {
      "needs_background": "light"
     },
     "output_type": "display_data"
    },
    {
     "data": {
      "image/png": "[encoded data removed]",
      "text/plain": [
       "<Figure size 432x288 with 1 Axes>"
      ]
     },
     "metadata": {
      "needs_background": "light"
     },
     "output_type": "display_data"
    }
   ],
   "source": [
    "count_plot=['payment_method','car_type','max_capacity']\n",
    "for i in count_plot:\n",
    "    sns.countplot(x=df[i])\n",
    "    plt.show()\n",
    "    "
   ]
  },
  {
   "cell_type": "markdown",
   "id": "d767a0c4",
   "metadata": {},
   "source": [
    "## Summary\n",
    "\n",
    "    There are two type of payment methods people have used to buy the tickets.\n",
    "\n",
    "    There are two type of cars Bus and shuttle and the maximum capacity of the bus is 49 while shuttle can contain 11 travelers"
   ]
  },
  {
   "cell_type": "code",
   "execution_count": 10,
   "id": "c546ca30",
   "metadata": {},
   "outputs": [
    {
     "data": {
      "image/png": "[encoded data removed]",
      "text/plain": [
       "<Figure size 432x288 with 1 Axes>"
      ]
     },
     "metadata": {
      "needs_background": "light"
     },
     "output_type": "display_data"
    }
   ],
   "source": [
    "travel_from=df['travel_from'].value_counts()\n",
    "travel_from.plot(kind='bar')\n",
    "\n",
    "plt.show()"
   ]
  },
  {
   "cell_type": "code",
   "execution_count": 11,
   "id": "c971b403",
   "metadata": {},
   "outputs": [
    {
     "data": {
      "text/plain": [
       "<AxesSubplot:>"
      ]
     },
     "execution_count": 11,
     "metadata": {},
     "output_type": "execute_result"
    },
    {
     "data": {
      "image/png": "[encoded data removed]",
      "text/plain": [
       "<Figure size 432x288 with 1 Axes>"
      ]
     },
     "metadata": {
      "needs_background": "light"
     },
     "output_type": "display_data"
    }
   ],
   "source": [
    "df['travel_time'].value_counts().plot()"
   ]
  },
  {
   "cell_type": "code",
   "execution_count": 12,
   "id": "d3774767",
   "metadata": {},
   "outputs": [
    {
     "data": {
      "text/plain": [
       "8454     50\n",
       "13211    49\n",
       "10834    49\n",
       "8090     49\n",
       "11382    49\n",
       "         ..\n",
       "10090     1\n",
       "10091     1\n",
       "10114     1\n",
       "10116     1\n",
       "14304     1\n",
       "Name: ride_id, Length: 6249, dtype: int64"
      ]
     },
     "execution_count": 12,
     "metadata": {},
     "output_type": "execute_result"
    }
   ],
   "source": [
    "df['ride_id'].value_counts()"
   ]
  },
  {
   "cell_type": "markdown",
   "id": "34f5626e",
   "metadata": {},
   "source": [
    "\n",
    "## Finding Our Target Variable\n",
    "\n",
    "Since we are not given the target variable so we need to find target variable first.\n",
    "\n",
    " I will find the count of each ride_id and that will be the number_of_ticket as our target variable.\n"
   ]
  },
  {
   "cell_type": "code",
   "execution_count": 13,
   "id": "2a1b95b4",
   "metadata": {},
   "outputs": [
    {
     "data": {
      "text/html": [
       "<div>\n",
       "<style scoped>\n",
       "    .dataframe tbody tr th:only-of-type {\n",
       "        vertical-align: middle;\n",
       "    }\n",
       "\n",
       "    .dataframe tbody tr th {\n",
       "        vertical-align: top;\n",
       "    }\n",
       "\n",
       "    .dataframe thead th {\n",
       "        text-align: right;\n",
       "    }\n",
       "</style>\n",
       "<table border=\"1\" class=\"dataframe\">\n",
       "  <thead>\n",
       "    <tr style=\"text-align: right;\">\n",
       "      <th></th>\n",
       "      <th>ride_id</th>\n",
       "      <th>number_of_ticket</th>\n",
       "    </tr>\n",
       "  </thead>\n",
       "  <tbody>\n",
       "    <tr>\n",
       "      <th>0</th>\n",
       "      <td>1442</td>\n",
       "      <td>1</td>\n",
       "    </tr>\n",
       "    <tr>\n",
       "      <th>1</th>\n",
       "      <td>5437</td>\n",
       "      <td>1</td>\n",
       "    </tr>\n",
       "    <tr>\n",
       "      <th>2</th>\n",
       "      <td>5710</td>\n",
       "      <td>1</td>\n",
       "    </tr>\n",
       "    <tr>\n",
       "      <th>3</th>\n",
       "      <td>5777</td>\n",
       "      <td>5</td>\n",
       "    </tr>\n",
       "    <tr>\n",
       "      <th>4</th>\n",
       "      <td>5778</td>\n",
       "      <td>31</td>\n",
       "    </tr>\n",
       "  </tbody>\n",
       "</table>\n",
       "</div>"
      ],
      "text/plain": [
       "   ride_id  number_of_ticket\n",
       "0     1442                 1\n",
       "1     5437                 1\n",
       "2     5710                 1\n",
       "3     5777                 5\n",
       "4     5778                31"
      ]
     },
     "execution_count": 13,
     "metadata": {},
     "output_type": "execute_result"
    }
   ],
   "source": [
    "no_ticket=df.groupby([\"ride_id\"]).seat_number.count().rename(\"number_of_ticket\").reset_index()\n",
    "no_ticket.head()"
   ]
  },
  {
   "cell_type": "code",
   "execution_count": 14,
   "id": "4396206b",
   "metadata": {},
   "outputs": [],
   "source": [
    "df=df.drop_duplicates(\"ride_id\")"
   ]
  },
  {
   "cell_type": "code",
   "execution_count": 15,
   "id": "298feca1",
   "metadata": {},
   "outputs": [
    {
     "data": {
      "text/html": [
       "<div>\n",
       "<style scoped>\n",
       "    .dataframe tbody tr th:only-of-type {\n",
       "        vertical-align: middle;\n",
       "    }\n",
       "\n",
       "    .dataframe tbody tr th {\n",
       "        vertical-align: top;\n",
       "    }\n",
       "\n",
       "    .dataframe thead th {\n",
       "        text-align: right;\n",
       "    }\n",
       "</style>\n",
       "<table border=\"1\" class=\"dataframe\">\n",
       "  <thead>\n",
       "    <tr style=\"text-align: right;\">\n",
       "      <th></th>\n",
       "      <th>ride_id</th>\n",
       "      <th>seat_number</th>\n",
       "      <th>payment_method</th>\n",
       "      <th>payment_receipt</th>\n",
       "      <th>travel_date</th>\n",
       "      <th>travel_time</th>\n",
       "      <th>travel_from</th>\n",
       "      <th>travel_to</th>\n",
       "      <th>car_type</th>\n",
       "      <th>max_capacity</th>\n",
       "      <th>number_of_ticket</th>\n",
       "    </tr>\n",
       "  </thead>\n",
       "  <tbody>\n",
       "    <tr>\n",
       "      <th>0</th>\n",
       "      <td>1442</td>\n",
       "      <td>15A</td>\n",
       "      <td>Mpesa</td>\n",
       "      <td>UZUEHCBUSO</td>\n",
       "      <td>17-10-17</td>\n",
       "      <td>7:15</td>\n",
       "      <td>Migori</td>\n",
       "      <td>Nairobi</td>\n",
       "      <td>Bus</td>\n",
       "      <td>49</td>\n",
       "      <td>1</td>\n",
       "    </tr>\n",
       "    <tr>\n",
       "      <th>1</th>\n",
       "      <td>5437</td>\n",
       "      <td>14A</td>\n",
       "      <td>Mpesa</td>\n",
       "      <td>TIHLBUSGTE</td>\n",
       "      <td>19-11-17</td>\n",
       "      <td>7:12</td>\n",
       "      <td>Migori</td>\n",
       "      <td>Nairobi</td>\n",
       "      <td>Bus</td>\n",
       "      <td>49</td>\n",
       "      <td>1</td>\n",
       "    </tr>\n",
       "    <tr>\n",
       "      <th>2</th>\n",
       "      <td>5710</td>\n",
       "      <td>8B</td>\n",
       "      <td>Mpesa</td>\n",
       "      <td>EQX8Q5G19O</td>\n",
       "      <td>26-11-17</td>\n",
       "      <td>7:05</td>\n",
       "      <td>Keroka</td>\n",
       "      <td>Nairobi</td>\n",
       "      <td>Bus</td>\n",
       "      <td>49</td>\n",
       "      <td>1</td>\n",
       "    </tr>\n",
       "    <tr>\n",
       "      <th>3</th>\n",
       "      <td>5777</td>\n",
       "      <td>19A</td>\n",
       "      <td>Mpesa</td>\n",
       "      <td>SGP18CL0ME</td>\n",
       "      <td>27-11-17</td>\n",
       "      <td>7:10</td>\n",
       "      <td>Homa Bay</td>\n",
       "      <td>Nairobi</td>\n",
       "      <td>Bus</td>\n",
       "      <td>49</td>\n",
       "      <td>5</td>\n",
       "    </tr>\n",
       "    <tr>\n",
       "      <th>4</th>\n",
       "      <td>5778</td>\n",
       "      <td>11A</td>\n",
       "      <td>Mpesa</td>\n",
       "      <td>BM97HFRGL9</td>\n",
       "      <td>27-11-17</td>\n",
       "      <td>7:12</td>\n",
       "      <td>Migori</td>\n",
       "      <td>Nairobi</td>\n",
       "      <td>Bus</td>\n",
       "      <td>49</td>\n",
       "      <td>31</td>\n",
       "    </tr>\n",
       "  </tbody>\n",
       "</table>\n",
       "</div>"
      ],
      "text/plain": [
       "   ride_id seat_number payment_method payment_receipt travel_date travel_time  \\\n",
       "0     1442         15A          Mpesa      UZUEHCBUSO    17-10-17        7:15   \n",
       "1     5437         14A          Mpesa      TIHLBUSGTE    19-11-17        7:12   \n",
       "2     5710          8B          Mpesa      EQX8Q5G19O    26-11-17        7:05   \n",
       "3     5777         19A          Mpesa      SGP18CL0ME    27-11-17        7:10   \n",
       "4     5778         11A          Mpesa      BM97HFRGL9    27-11-17        7:12   \n",
       "\n",
       "  travel_from travel_to car_type  max_capacity  number_of_ticket  \n",
       "0      Migori   Nairobi      Bus            49                 1  \n",
       "1      Migori   Nairobi      Bus            49                 1  \n",
       "2      Keroka   Nairobi      Bus            49                 1  \n",
       "3    Homa Bay   Nairobi      Bus            49                 5  \n",
       "4      Migori   Nairobi      Bus            49                31  "
      ]
     },
     "execution_count": 15,
     "metadata": {},
     "output_type": "execute_result"
    }
   ],
   "source": [
    "\n",
    "df = df.merge(no_ticket,how=\"left\",on=\"ride_id\")\n",
    "df.head()"
   ]
  },
  {
   "cell_type": "code",
   "execution_count": 16,
   "id": "7e3c59de",
   "metadata": {},
   "outputs": [],
   "source": [
    "df = df.drop(['seat_number','payment_method','payment_receipt','travel_to'], axis=1)"
   ]
  },
  {
   "cell_type": "code",
   "execution_count": 17,
   "id": "f1d286ec",
   "metadata": {},
   "outputs": [
    {
     "data": {
      "text/html": [
       "<div>\n",
       "<style scoped>\n",
       "    .dataframe tbody tr th:only-of-type {\n",
       "        vertical-align: middle;\n",
       "    }\n",
       "\n",
       "    .dataframe tbody tr th {\n",
       "        vertical-align: top;\n",
       "    }\n",
       "\n",
       "    .dataframe thead th {\n",
       "        text-align: right;\n",
       "    }\n",
       "</style>\n",
       "<table border=\"1\" class=\"dataframe\">\n",
       "  <thead>\n",
       "    <tr style=\"text-align: right;\">\n",
       "      <th></th>\n",
       "      <th>ride_id</th>\n",
       "      <th>travel_date</th>\n",
       "      <th>travel_time</th>\n",
       "      <th>travel_from</th>\n",
       "      <th>car_type</th>\n",
       "      <th>max_capacity</th>\n",
       "      <th>number_of_ticket</th>\n",
       "    </tr>\n",
       "  </thead>\n",
       "  <tbody>\n",
       "    <tr>\n",
       "      <th>0</th>\n",
       "      <td>1442</td>\n",
       "      <td>17-10-17</td>\n",
       "      <td>7:15</td>\n",
       "      <td>Migori</td>\n",
       "      <td>Bus</td>\n",
       "      <td>49</td>\n",
       "      <td>1</td>\n",
       "    </tr>\n",
       "    <tr>\n",
       "      <th>1</th>\n",
       "      <td>5437</td>\n",
       "      <td>19-11-17</td>\n",
       "      <td>7:12</td>\n",
       "      <td>Migori</td>\n",
       "      <td>Bus</td>\n",
       "      <td>49</td>\n",
       "      <td>1</td>\n",
       "    </tr>\n",
       "    <tr>\n",
       "      <th>2</th>\n",
       "      <td>5710</td>\n",
       "      <td>26-11-17</td>\n",
       "      <td>7:05</td>\n",
       "      <td>Keroka</td>\n",
       "      <td>Bus</td>\n",
       "      <td>49</td>\n",
       "      <td>1</td>\n",
       "    </tr>\n",
       "    <tr>\n",
       "      <th>3</th>\n",
       "      <td>5777</td>\n",
       "      <td>27-11-17</td>\n",
       "      <td>7:10</td>\n",
       "      <td>Homa Bay</td>\n",
       "      <td>Bus</td>\n",
       "      <td>49</td>\n",
       "      <td>5</td>\n",
       "    </tr>\n",
       "    <tr>\n",
       "      <th>4</th>\n",
       "      <td>5778</td>\n",
       "      <td>27-11-17</td>\n",
       "      <td>7:12</td>\n",
       "      <td>Migori</td>\n",
       "      <td>Bus</td>\n",
       "      <td>49</td>\n",
       "      <td>31</td>\n",
       "    </tr>\n",
       "  </tbody>\n",
       "</table>\n",
       "</div>"
      ],
      "text/plain": [
       "   ride_id travel_date travel_time travel_from car_type  max_capacity  \\\n",
       "0     1442    17-10-17        7:15      Migori      Bus            49   \n",
       "1     5437    19-11-17        7:12      Migori      Bus            49   \n",
       "2     5710    26-11-17        7:05      Keroka      Bus            49   \n",
       "3     5777    27-11-17        7:10    Homa Bay      Bus            49   \n",
       "4     5778    27-11-17        7:12      Migori      Bus            49   \n",
       "\n",
       "   number_of_ticket  \n",
       "0                 1  \n",
       "1                 1  \n",
       "2                 1  \n",
       "3                 5  \n",
       "4                31  "
      ]
     },
     "execution_count": 17,
     "metadata": {},
     "output_type": "execute_result"
    }
   ],
   "source": [
    "df.head()"
   ]
  },
  {
   "cell_type": "code",
   "execution_count": 18,
   "id": "c7e4c454",
   "metadata": {},
   "outputs": [
    {
     "data": {
      "text/plain": [
       "<AxesSubplot:xlabel='travel_from', ylabel='number_of_ticket'>"
      ]
     },
     "execution_count": 18,
     "metadata": {},
     "output_type": "execute_result"
    },
    {
     "data": {
      "image/png": "[encoded data removed]",
      "text/plain": [
       "<Figure size 1152x504 with 1 Axes>"
      ]
     },
     "metadata": {
      "needs_background": "light"
     },
     "output_type": "display_data"
    }
   ],
   "source": [
    "plt.figure(figsize=(16, 7))\n",
    "\n",
    "sns.scatterplot(x=\"travel_from\", y=\"number_of_ticket\", data=df)"
   ]
  },
  {
   "cell_type": "code",
   "execution_count": 19,
   "id": "ae0e9e5d",
   "metadata": {},
   "outputs": [],
   "source": [
    "df[\"date\"]=df[\"travel_date\"]+ \" \"+df[\"travel_time\"]"
   ]
  },
  {
   "cell_type": "code",
   "execution_count": 20,
   "id": "66f2d885",
   "metadata": {},
   "outputs": [
    {
     "data": {
      "text/html": [
       "<div>\n",
       "<style scoped>\n",
       "    .dataframe tbody tr th:only-of-type {\n",
       "        vertical-align: middle;\n",
       "    }\n",
       "\n",
       "    .dataframe tbody tr th {\n",
       "        vertical-align: top;\n",
       "    }\n",
       "\n",
       "    .dataframe thead th {\n",
       "        text-align: right;\n",
       "    }\n",
       "</style>\n",
       "<table border=\"1\" class=\"dataframe\">\n",
       "  <thead>\n",
       "    <tr style=\"text-align: right;\">\n",
       "      <th></th>\n",
       "      <th>ride_id</th>\n",
       "      <th>travel_date</th>\n",
       "      <th>travel_time</th>\n",
       "      <th>travel_from</th>\n",
       "      <th>car_type</th>\n",
       "      <th>max_capacity</th>\n",
       "      <th>number_of_ticket</th>\n",
       "      <th>date</th>\n",
       "    </tr>\n",
       "  </thead>\n",
       "  <tbody>\n",
       "    <tr>\n",
       "      <th>0</th>\n",
       "      <td>1442</td>\n",
       "      <td>17-10-17</td>\n",
       "      <td>7:15</td>\n",
       "      <td>Migori</td>\n",
       "      <td>Bus</td>\n",
       "      <td>49</td>\n",
       "      <td>1</td>\n",
       "      <td>17-10-17 7:15</td>\n",
       "    </tr>\n",
       "    <tr>\n",
       "      <th>1</th>\n",
       "      <td>5437</td>\n",
       "      <td>19-11-17</td>\n",
       "      <td>7:12</td>\n",
       "      <td>Migori</td>\n",
       "      <td>Bus</td>\n",
       "      <td>49</td>\n",
       "      <td>1</td>\n",
       "      <td>19-11-17 7:12</td>\n",
       "    </tr>\n",
       "    <tr>\n",
       "      <th>2</th>\n",
       "      <td>5710</td>\n",
       "      <td>26-11-17</td>\n",
       "      <td>7:05</td>\n",
       "      <td>Keroka</td>\n",
       "      <td>Bus</td>\n",
       "      <td>49</td>\n",
       "      <td>1</td>\n",
       "      <td>26-11-17 7:05</td>\n",
       "    </tr>\n",
       "    <tr>\n",
       "      <th>3</th>\n",
       "      <td>5777</td>\n",
       "      <td>27-11-17</td>\n",
       "      <td>7:10</td>\n",
       "      <td>Homa Bay</td>\n",
       "      <td>Bus</td>\n",
       "      <td>49</td>\n",
       "      <td>5</td>\n",
       "      <td>27-11-17 7:10</td>\n",
       "    </tr>\n",
       "    <tr>\n",
       "      <th>4</th>\n",
       "      <td>5778</td>\n",
       "      <td>27-11-17</td>\n",
       "      <td>7:12</td>\n",
       "      <td>Migori</td>\n",
       "      <td>Bus</td>\n",
       "      <td>49</td>\n",
       "      <td>31</td>\n",
       "      <td>27-11-17 7:12</td>\n",
       "    </tr>\n",
       "  </tbody>\n",
       "</table>\n",
       "</div>"
      ],
      "text/plain": [
       "   ride_id travel_date travel_time travel_from car_type  max_capacity  \\\n",
       "0     1442    17-10-17        7:15      Migori      Bus            49   \n",
       "1     5437    19-11-17        7:12      Migori      Bus            49   \n",
       "2     5710    26-11-17        7:05      Keroka      Bus            49   \n",
       "3     5777    27-11-17        7:10    Homa Bay      Bus            49   \n",
       "4     5778    27-11-17        7:12      Migori      Bus            49   \n",
       "\n",
       "   number_of_ticket           date  \n",
       "0                 1  17-10-17 7:15  \n",
       "1                 1  19-11-17 7:12  \n",
       "2                 1  26-11-17 7:05  \n",
       "3                 5  27-11-17 7:10  \n",
       "4                31  27-11-17 7:12  "
      ]
     },
     "execution_count": 20,
     "metadata": {},
     "output_type": "execute_result"
    }
   ],
   "source": [
    "df.head()"
   ]
  },
  {
   "cell_type": "code",
   "execution_count": 21,
   "id": "2cb910ed",
   "metadata": {},
   "outputs": [],
   "source": [
    "def  time_features(df):\n",
    "    \n",
    "    \n",
    "        \n",
    "      '''This function takes dataframe as an argument and extracts the\n",
    "  different features from the date variable of the dataset and finaly returns the updated \n",
    "  dataset'''\n",
    "        \n",
    "        \n",
    "      df[\"date\"]=pd.to_datetime(df[\"date\"])\n",
    "      df[\"day_of_week\"]=df[\"date\"].dt.dayofweek\n",
    "      df[\"day_of_year\"]=df[\"date\"].dt.dayofyear\n",
    "      df[\"day_of_month\"]=df[\"date\"].dt.day\n",
    "      df[\"year_woy\"]=df[\"date\"].dt.year.astype(str)+df[\"date\"].dt.weekofyear.astype(str)\n",
    "      df[\"hour\"]=df[\"date\"].dt.hour\n",
    "      df[\"minute\"]=df[\"date\"].dt.minute\n",
    "      df[\"is_weekend\"]=df[\"day_of_week\"].apply( lambda x : 1 if x  in [5,6] else 0 )\n",
    "      df[\"year\"]=df[\"date\"].dt.year\n",
    "      df[\"quarter\"]=df[\"date\"].dt.quarter\n",
    "      df[\"month\"]=df[\"date\"].dt.month\n",
    "      return df"
   ]
  },
  {
   "cell_type": "code",
   "execution_count": 22,
   "id": "e97f77d9",
   "metadata": {},
   "outputs": [
    {
     "name": "stderr",
     "output_type": "stream",
     "text": [
      "C:\\Users\\Ghani\\AppData\\Local\\Temp\\ipykernel_7784\\2334567898.py:14: FutureWarning: Series.dt.weekofyear and Series.dt.week have been deprecated. Please use Series.dt.isocalendar().week instead.\n",
      "  df[\"year_woy\"]=df[\"date\"].dt.year.astype(str)+df[\"date\"].dt.weekofyear.astype(str)\n"
     ]
    }
   ],
   "source": [
    "data= time_features(df)"
   ]
  },
  {
   "cell_type": "code",
   "execution_count": 23,
   "id": "71a0969d",
   "metadata": {},
   "outputs": [
    {
     "data": {
      "text/html": [
       "<div>\n",
       "<style scoped>\n",
       "    .dataframe tbody tr th:only-of-type {\n",
       "        vertical-align: middle;\n",
       "    }\n",
       "\n",
       "    .dataframe tbody tr th {\n",
       "        vertical-align: top;\n",
       "    }\n",
       "\n",
       "    .dataframe thead th {\n",
       "        text-align: right;\n",
       "    }\n",
       "</style>\n",
       "<table border=\"1\" class=\"dataframe\">\n",
       "  <thead>\n",
       "    <tr style=\"text-align: right;\">\n",
       "      <th></th>\n",
       "      <th>ride_id</th>\n",
       "      <th>travel_date</th>\n",
       "      <th>travel_time</th>\n",
       "      <th>travel_from</th>\n",
       "      <th>car_type</th>\n",
       "      <th>max_capacity</th>\n",
       "      <th>number_of_ticket</th>\n",
       "      <th>date</th>\n",
       "      <th>day_of_week</th>\n",
       "      <th>day_of_year</th>\n",
       "      <th>day_of_month</th>\n",
       "      <th>year_woy</th>\n",
       "      <th>hour</th>\n",
       "      <th>minute</th>\n",
       "      <th>is_weekend</th>\n",
       "      <th>year</th>\n",
       "      <th>quarter</th>\n",
       "      <th>month</th>\n",
       "    </tr>\n",
       "  </thead>\n",
       "  <tbody>\n",
       "    <tr>\n",
       "      <th>0</th>\n",
       "      <td>1442</td>\n",
       "      <td>17-10-17</td>\n",
       "      <td>7:15</td>\n",
       "      <td>Migori</td>\n",
       "      <td>Bus</td>\n",
       "      <td>49</td>\n",
       "      <td>1</td>\n",
       "      <td>2017-10-17 07:15:00</td>\n",
       "      <td>1</td>\n",
       "      <td>290</td>\n",
       "      <td>17</td>\n",
       "      <td>201742</td>\n",
       "      <td>7</td>\n",
       "      <td>15</td>\n",
       "      <td>0</td>\n",
       "      <td>2017</td>\n",
       "      <td>4</td>\n",
       "      <td>10</td>\n",
       "    </tr>\n",
       "    <tr>\n",
       "      <th>1</th>\n",
       "      <td>5437</td>\n",
       "      <td>19-11-17</td>\n",
       "      <td>7:12</td>\n",
       "      <td>Migori</td>\n",
       "      <td>Bus</td>\n",
       "      <td>49</td>\n",
       "      <td>1</td>\n",
       "      <td>2017-11-19 07:12:00</td>\n",
       "      <td>6</td>\n",
       "      <td>323</td>\n",
       "      <td>19</td>\n",
       "      <td>201746</td>\n",
       "      <td>7</td>\n",
       "      <td>12</td>\n",
       "      <td>1</td>\n",
       "      <td>2017</td>\n",
       "      <td>4</td>\n",
       "      <td>11</td>\n",
       "    </tr>\n",
       "    <tr>\n",
       "      <th>2</th>\n",
       "      <td>5710</td>\n",
       "      <td>26-11-17</td>\n",
       "      <td>7:05</td>\n",
       "      <td>Keroka</td>\n",
       "      <td>Bus</td>\n",
       "      <td>49</td>\n",
       "      <td>1</td>\n",
       "      <td>2017-11-26 07:05:00</td>\n",
       "      <td>6</td>\n",
       "      <td>330</td>\n",
       "      <td>26</td>\n",
       "      <td>201747</td>\n",
       "      <td>7</td>\n",
       "      <td>5</td>\n",
       "      <td>1</td>\n",
       "      <td>2017</td>\n",
       "      <td>4</td>\n",
       "      <td>11</td>\n",
       "    </tr>\n",
       "    <tr>\n",
       "      <th>3</th>\n",
       "      <td>5777</td>\n",
       "      <td>27-11-17</td>\n",
       "      <td>7:10</td>\n",
       "      <td>Homa Bay</td>\n",
       "      <td>Bus</td>\n",
       "      <td>49</td>\n",
       "      <td>5</td>\n",
       "      <td>2017-11-27 07:10:00</td>\n",
       "      <td>0</td>\n",
       "      <td>331</td>\n",
       "      <td>27</td>\n",
       "      <td>201748</td>\n",
       "      <td>7</td>\n",
       "      <td>10</td>\n",
       "      <td>0</td>\n",
       "      <td>2017</td>\n",
       "      <td>4</td>\n",
       "      <td>11</td>\n",
       "    </tr>\n",
       "    <tr>\n",
       "      <th>4</th>\n",
       "      <td>5778</td>\n",
       "      <td>27-11-17</td>\n",
       "      <td>7:12</td>\n",
       "      <td>Migori</td>\n",
       "      <td>Bus</td>\n",
       "      <td>49</td>\n",
       "      <td>31</td>\n",
       "      <td>2017-11-27 07:12:00</td>\n",
       "      <td>0</td>\n",
       "      <td>331</td>\n",
       "      <td>27</td>\n",
       "      <td>201748</td>\n",
       "      <td>7</td>\n",
       "      <td>12</td>\n",
       "      <td>0</td>\n",
       "      <td>2017</td>\n",
       "      <td>4</td>\n",
       "      <td>11</td>\n",
       "    </tr>\n",
       "  </tbody>\n",
       "</table>\n",
       "</div>"
      ],
      "text/plain": [
       "   ride_id travel_date travel_time travel_from car_type  max_capacity  \\\n",
       "0     1442    17-10-17        7:15      Migori      Bus            49   \n",
       "1     5437    19-11-17        7:12      Migori      Bus            49   \n",
       "2     5710    26-11-17        7:05      Keroka      Bus            49   \n",
       "3     5777    27-11-17        7:10    Homa Bay      Bus            49   \n",
       "4     5778    27-11-17        7:12      Migori      Bus            49   \n",
       "\n",
       "   number_of_ticket                date  day_of_week  day_of_year  \\\n",
       "0                 1 2017-10-17 07:15:00            1          290   \n",
       "1                 1 2017-11-19 07:12:00            6          323   \n",
       "2                 1 2017-11-26 07:05:00            6          330   \n",
       "3                 5 2017-11-27 07:10:00            0          331   \n",
       "4                31 2017-11-27 07:12:00            0          331   \n",
       "\n",
       "   day_of_month year_woy  hour  minute  is_weekend  year  quarter  month  \n",
       "0            17   201742     7      15           0  2017        4     10  \n",
       "1            19   201746     7      12           1  2017        4     11  \n",
       "2            26   201747     7       5           1  2017        4     11  \n",
       "3            27   201748     7      10           0  2017        4     11  \n",
       "4            27   201748     7      12           0  2017        4     11  "
      ]
     },
     "execution_count": 23,
     "metadata": {},
     "output_type": "execute_result"
    }
   ],
   "source": [
    "data.head()"
   ]
  },
  {
   "cell_type": "code",
   "execution_count": 24,
   "id": "ba33f088",
   "metadata": {},
   "outputs": [
    {
     "data": {
      "text/plain": [
       "<AxesSubplot:xlabel='day_of_month', ylabel='number_of_ticket'>"
      ]
     },
     "execution_count": 24,
     "metadata": {},
     "output_type": "execute_result"
    },
    {
     "data": {
      "image/png": "[encoded data removed]",
      "text/plain": [
       "<Figure size 864x432 with 1 Axes>"
      ]
     },
     "metadata": {
      "needs_background": "light"
     },
     "output_type": "display_data"
    }
   ],
   "source": [
    "\n",
    "\n",
    "plt.figure(figsize=(12, 6))\n",
    "\n",
    "sns.scatterplot(x='day_of_month', y=\"number_of_ticket\", data=data)\n",
    "\n"
   ]
  },
  {
   "cell_type": "markdown",
   "id": "8612ab40",
   "metadata": {},
   "source": [
    "\n",
    "Summary\n",
    "\n",
    "    We can see that there is the gap between 5 to 11 in the day of the month. We can assume that there is official holyday of public transport between these days. we can also say that the number of tickets in all the days of month are same.\n",
    "\n"
   ]
  },
  {
   "cell_type": "code",
   "execution_count": 25,
   "id": "db8b0b45",
   "metadata": {},
   "outputs": [
    {
     "data": {
      "text/plain": [
       "<AxesSubplot:xlabel='hour', ylabel='number_of_ticket'>"
      ]
     },
     "execution_count": 25,
     "metadata": {},
     "output_type": "execute_result"
    },
    {
     "data": {
      "image/png": "[encoded data removed]",
      "text/plain": [
       "<Figure size 432x288 with 1 Axes>"
      ]
     },
     "metadata": {
      "needs_background": "light"
     },
     "output_type": "display_data"
    }
   ],
   "source": [
    "sns.scatterplot(x='hour', y=\"number_of_ticket\", data=data)"
   ]
  },
  {
   "cell_type": "code",
   "execution_count": null,
   "id": "9d465719",
   "metadata": {},
   "outputs": [],
   "source": []
  },
  {
   "cell_type": "code",
   "execution_count": 26,
   "id": "fcaa5810",
   "metadata": {},
   "outputs": [],
   "source": [
    "copy_data=data.copy()"
   ]
  },
  {
   "cell_type": "code",
   "execution_count": 27,
   "id": "02302274",
   "metadata": {},
   "outputs": [
    {
     "data": {
      "text/html": [
       "<div>\n",
       "<style scoped>\n",
       "    .dataframe tbody tr th:only-of-type {\n",
       "        vertical-align: middle;\n",
       "    }\n",
       "\n",
       "    .dataframe tbody tr th {\n",
       "        vertical-align: top;\n",
       "    }\n",
       "\n",
       "    .dataframe thead th {\n",
       "        text-align: right;\n",
       "    }\n",
       "</style>\n",
       "<table border=\"1\" class=\"dataframe\">\n",
       "  <thead>\n",
       "    <tr style=\"text-align: right;\">\n",
       "      <th></th>\n",
       "      <th>ride_id</th>\n",
       "      <th>travel_date</th>\n",
       "      <th>travel_time</th>\n",
       "      <th>travel_from</th>\n",
       "      <th>car_type</th>\n",
       "      <th>max_capacity</th>\n",
       "      <th>number_of_ticket</th>\n",
       "      <th>date</th>\n",
       "      <th>day_of_week</th>\n",
       "      <th>day_of_year</th>\n",
       "      <th>day_of_month</th>\n",
       "      <th>year_woy</th>\n",
       "      <th>hour</th>\n",
       "      <th>minute</th>\n",
       "      <th>is_weekend</th>\n",
       "      <th>year</th>\n",
       "      <th>quarter</th>\n",
       "      <th>month</th>\n",
       "    </tr>\n",
       "  </thead>\n",
       "  <tbody>\n",
       "    <tr>\n",
       "      <th>0</th>\n",
       "      <td>1442</td>\n",
       "      <td>17-10-17</td>\n",
       "      <td>7:15</td>\n",
       "      <td>Migori</td>\n",
       "      <td>Bus</td>\n",
       "      <td>49</td>\n",
       "      <td>1</td>\n",
       "      <td>2017-10-17 07:15:00</td>\n",
       "      <td>1</td>\n",
       "      <td>290</td>\n",
       "      <td>17</td>\n",
       "      <td>201742</td>\n",
       "      <td>7</td>\n",
       "      <td>15</td>\n",
       "      <td>0</td>\n",
       "      <td>2017</td>\n",
       "      <td>4</td>\n",
       "      <td>10</td>\n",
       "    </tr>\n",
       "    <tr>\n",
       "      <th>1</th>\n",
       "      <td>5437</td>\n",
       "      <td>19-11-17</td>\n",
       "      <td>7:12</td>\n",
       "      <td>Migori</td>\n",
       "      <td>Bus</td>\n",
       "      <td>49</td>\n",
       "      <td>1</td>\n",
       "      <td>2017-11-19 07:12:00</td>\n",
       "      <td>6</td>\n",
       "      <td>323</td>\n",
       "      <td>19</td>\n",
       "      <td>201746</td>\n",
       "      <td>7</td>\n",
       "      <td>12</td>\n",
       "      <td>1</td>\n",
       "      <td>2017</td>\n",
       "      <td>4</td>\n",
       "      <td>11</td>\n",
       "    </tr>\n",
       "    <tr>\n",
       "      <th>2</th>\n",
       "      <td>5710</td>\n",
       "      <td>26-11-17</td>\n",
       "      <td>7:05</td>\n",
       "      <td>Keroka</td>\n",
       "      <td>Bus</td>\n",
       "      <td>49</td>\n",
       "      <td>1</td>\n",
       "      <td>2017-11-26 07:05:00</td>\n",
       "      <td>6</td>\n",
       "      <td>330</td>\n",
       "      <td>26</td>\n",
       "      <td>201747</td>\n",
       "      <td>7</td>\n",
       "      <td>5</td>\n",
       "      <td>1</td>\n",
       "      <td>2017</td>\n",
       "      <td>4</td>\n",
       "      <td>11</td>\n",
       "    </tr>\n",
       "    <tr>\n",
       "      <th>3</th>\n",
       "      <td>5777</td>\n",
       "      <td>27-11-17</td>\n",
       "      <td>7:10</td>\n",
       "      <td>Homa Bay</td>\n",
       "      <td>Bus</td>\n",
       "      <td>49</td>\n",
       "      <td>5</td>\n",
       "      <td>2017-11-27 07:10:00</td>\n",
       "      <td>0</td>\n",
       "      <td>331</td>\n",
       "      <td>27</td>\n",
       "      <td>201748</td>\n",
       "      <td>7</td>\n",
       "      <td>10</td>\n",
       "      <td>0</td>\n",
       "      <td>2017</td>\n",
       "      <td>4</td>\n",
       "      <td>11</td>\n",
       "    </tr>\n",
       "    <tr>\n",
       "      <th>4</th>\n",
       "      <td>5778</td>\n",
       "      <td>27-11-17</td>\n",
       "      <td>7:12</td>\n",
       "      <td>Migori</td>\n",
       "      <td>Bus</td>\n",
       "      <td>49</td>\n",
       "      <td>31</td>\n",
       "      <td>2017-11-27 07:12:00</td>\n",
       "      <td>0</td>\n",
       "      <td>331</td>\n",
       "      <td>27</td>\n",
       "      <td>201748</td>\n",
       "      <td>7</td>\n",
       "      <td>12</td>\n",
       "      <td>0</td>\n",
       "      <td>2017</td>\n",
       "      <td>4</td>\n",
       "      <td>11</td>\n",
       "    </tr>\n",
       "  </tbody>\n",
       "</table>\n",
       "</div>"
      ],
      "text/plain": [
       "   ride_id travel_date travel_time travel_from car_type  max_capacity  \\\n",
       "0     1442    17-10-17        7:15      Migori      Bus            49   \n",
       "1     5437    19-11-17        7:12      Migori      Bus            49   \n",
       "2     5710    26-11-17        7:05      Keroka      Bus            49   \n",
       "3     5777    27-11-17        7:10    Homa Bay      Bus            49   \n",
       "4     5778    27-11-17        7:12      Migori      Bus            49   \n",
       "\n",
       "   number_of_ticket                date  day_of_week  day_of_year  \\\n",
       "0                 1 2017-10-17 07:15:00            1          290   \n",
       "1                 1 2017-11-19 07:12:00            6          323   \n",
       "2                 1 2017-11-26 07:05:00            6          330   \n",
       "3                 5 2017-11-27 07:10:00            0          331   \n",
       "4                31 2017-11-27 07:12:00            0          331   \n",
       "\n",
       "   day_of_month year_woy  hour  minute  is_weekend  year  quarter  month  \n",
       "0            17   201742     7      15           0  2017        4     10  \n",
       "1            19   201746     7      12           1  2017        4     11  \n",
       "2            26   201747     7       5           1  2017        4     11  \n",
       "3            27   201748     7      10           0  2017        4     11  \n",
       "4            27   201748     7      12           0  2017        4     11  "
      ]
     },
     "execution_count": 27,
     "metadata": {},
     "output_type": "execute_result"
    }
   ],
   "source": [
    "copy_data.head()"
   ]
  },
  {
   "cell_type": "code",
   "execution_count": 28,
   "id": "22c9151f",
   "metadata": {},
   "outputs": [
    {
     "data": {
      "text/plain": [
       "(6249, 18)"
      ]
     },
     "execution_count": 28,
     "metadata": {},
     "output_type": "execute_result"
    }
   ],
   "source": [
    "copy_data.shape"
   ]
  },
  {
   "cell_type": "code",
   "execution_count": 29,
   "id": "1ab133da",
   "metadata": {},
   "outputs": [
    {
     "data": {
      "text/plain": [
       "12    1050\n",
       "2      985\n",
       "1      896\n",
       "3      853\n",
       "4      600\n",
       "11     414\n",
       "9      262\n",
       "7      254\n",
       "8      251\n",
       "10     247\n",
       "6      225\n",
       "5      212\n",
       "Name: month, dtype: int64"
      ]
     },
     "execution_count": 29,
     "metadata": {},
     "output_type": "execute_result"
    }
   ],
   "source": [
    "copy_data.month.value_counts()"
   ]
  },
  {
   "cell_type": "code",
   "execution_count": 30,
   "id": "4f4d8c25",
   "metadata": {},
   "outputs": [],
   "source": [
    "dict_cov = {12:1,2:1,1:1,2:1,4:2,11:2,9:3,7:3,8:3,10:3,6:3,5:3}\n",
    "copy_data['month'].replace(dict_cov,inplace=True) "
   ]
  },
  {
   "cell_type": "code",
   "execution_count": 31,
   "id": "1ff0cfbc",
   "metadata": {},
   "outputs": [
    {
     "data": {
      "text/plain": [
       "1    2931\n",
       "3    2304\n",
       "2    1014\n",
       "Name: month, dtype: int64"
      ]
     },
     "execution_count": 31,
     "metadata": {},
     "output_type": "execute_result"
    }
   ],
   "source": [
    "copy_data['month'].value_counts()"
   ]
  },
  {
   "cell_type": "code",
   "execution_count": 32,
   "id": "2db4f29b",
   "metadata": {},
   "outputs": [
    {
     "data": {
      "text/plain": [
       "Index(['ride_id', 'travel_date', 'travel_time', 'travel_from', 'car_type',\n",
       "       'max_capacity', 'number_of_ticket', 'date', 'day_of_week',\n",
       "       'day_of_year', 'day_of_month', 'year_woy', 'hour', 'minute',\n",
       "       'is_weekend', 'year', 'quarter', 'month'],\n",
       "      dtype='object')"
      ]
     },
     "execution_count": 32,
     "metadata": {},
     "output_type": "execute_result"
    }
   ],
   "source": [
    "copy_data.columns"
   ]
  },
  {
   "cell_type": "code",
   "execution_count": 33,
   "id": "c7fcb3c2",
   "metadata": {},
   "outputs": [
    {
     "data": {
      "text/plain": [
       "array([17, 19, 26, 27, 20, 18, 16, 15, 14, 13,  4, 28, 31, 30, 29, 25, 24,\n",
       "       23, 22, 21, 12,  3,  2,  1], dtype=int64)"
      ]
     },
     "execution_count": 33,
     "metadata": {},
     "output_type": "execute_result"
    }
   ],
   "source": [
    "copy_data.day_of_month.unique()"
   ]
  },
  {
   "cell_type": "code",
   "execution_count": 34,
   "id": "b7658817",
   "metadata": {},
   "outputs": [
    {
     "data": {
      "text/plain": [
       "2     706\n",
       "12    685\n",
       "3     659\n",
       "4     446\n",
       "1     267\n",
       "13    249\n",
       "14    247\n",
       "16    238\n",
       "28    228\n",
       "19    226\n",
       "18    226\n",
       "15    213\n",
       "17    209\n",
       "20    202\n",
       "22    192\n",
       "21    183\n",
       "27    179\n",
       "29    177\n",
       "23    159\n",
       "24    137\n",
       "26    120\n",
       "30    113\n",
       "25     96\n",
       "31     92\n",
       "Name: day_of_month, dtype: int64"
      ]
     },
     "execution_count": 34,
     "metadata": {},
     "output_type": "execute_result"
    }
   ],
   "source": [
    "copy_data['day_of_month'].value_counts()"
   ]
  },
  {
   "cell_type": "code",
   "execution_count": 35,
   "id": "0227a31e",
   "metadata": {},
   "outputs": [],
   "source": [
    "conv_dict = {2:1, 12:1, 3:1, 4:1,  1:2,17:2, 19:2, 20:2, 18:2, 16:2, 15:2, 14:2, 13:2, 28:2\n",
    "             , 22:3, 21:3, 27:3, 29:3, 23:3, 24:3, 26:3, 30:3, 25:3, 31:3}\n",
    "copy_data['day_of_month'].replace(conv_dict,inplace=True)"
   ]
  },
  {
   "cell_type": "code",
   "execution_count": 36,
   "id": "913442fe",
   "metadata": {
    "scrolled": true
   },
   "outputs": [
    {
     "data": {
      "text/html": [
       "<div>\n",
       "<style scoped>\n",
       "    .dataframe tbody tr th:only-of-type {\n",
       "        vertical-align: middle;\n",
       "    }\n",
       "\n",
       "    .dataframe tbody tr th {\n",
       "        vertical-align: top;\n",
       "    }\n",
       "\n",
       "    .dataframe thead th {\n",
       "        text-align: right;\n",
       "    }\n",
       "</style>\n",
       "<table border=\"1\" class=\"dataframe\">\n",
       "  <thead>\n",
       "    <tr style=\"text-align: right;\">\n",
       "      <th></th>\n",
       "      <th>ride_id</th>\n",
       "      <th>travel_date</th>\n",
       "      <th>travel_time</th>\n",
       "      <th>travel_from</th>\n",
       "      <th>car_type</th>\n",
       "      <th>max_capacity</th>\n",
       "      <th>number_of_ticket</th>\n",
       "      <th>date</th>\n",
       "      <th>day_of_week</th>\n",
       "      <th>day_of_year</th>\n",
       "      <th>day_of_month</th>\n",
       "      <th>year_woy</th>\n",
       "      <th>hour</th>\n",
       "      <th>minute</th>\n",
       "      <th>is_weekend</th>\n",
       "      <th>year</th>\n",
       "      <th>quarter</th>\n",
       "      <th>month</th>\n",
       "    </tr>\n",
       "  </thead>\n",
       "  <tbody>\n",
       "    <tr>\n",
       "      <th>0</th>\n",
       "      <td>1442</td>\n",
       "      <td>17-10-17</td>\n",
       "      <td>7:15</td>\n",
       "      <td>Migori</td>\n",
       "      <td>Bus</td>\n",
       "      <td>49</td>\n",
       "      <td>1</td>\n",
       "      <td>2017-10-17 07:15:00</td>\n",
       "      <td>1</td>\n",
       "      <td>290</td>\n",
       "      <td>2</td>\n",
       "      <td>201742</td>\n",
       "      <td>7</td>\n",
       "      <td>15</td>\n",
       "      <td>0</td>\n",
       "      <td>2017</td>\n",
       "      <td>4</td>\n",
       "      <td>3</td>\n",
       "    </tr>\n",
       "    <tr>\n",
       "      <th>1</th>\n",
       "      <td>5437</td>\n",
       "      <td>19-11-17</td>\n",
       "      <td>7:12</td>\n",
       "      <td>Migori</td>\n",
       "      <td>Bus</td>\n",
       "      <td>49</td>\n",
       "      <td>1</td>\n",
       "      <td>2017-11-19 07:12:00</td>\n",
       "      <td>6</td>\n",
       "      <td>323</td>\n",
       "      <td>2</td>\n",
       "      <td>201746</td>\n",
       "      <td>7</td>\n",
       "      <td>12</td>\n",
       "      <td>1</td>\n",
       "      <td>2017</td>\n",
       "      <td>4</td>\n",
       "      <td>2</td>\n",
       "    </tr>\n",
       "    <tr>\n",
       "      <th>2</th>\n",
       "      <td>5710</td>\n",
       "      <td>26-11-17</td>\n",
       "      <td>7:05</td>\n",
       "      <td>Keroka</td>\n",
       "      <td>Bus</td>\n",
       "      <td>49</td>\n",
       "      <td>1</td>\n",
       "      <td>2017-11-26 07:05:00</td>\n",
       "      <td>6</td>\n",
       "      <td>330</td>\n",
       "      <td>3</td>\n",
       "      <td>201747</td>\n",
       "      <td>7</td>\n",
       "      <td>5</td>\n",
       "      <td>1</td>\n",
       "      <td>2017</td>\n",
       "      <td>4</td>\n",
       "      <td>2</td>\n",
       "    </tr>\n",
       "    <tr>\n",
       "      <th>3</th>\n",
       "      <td>5777</td>\n",
       "      <td>27-11-17</td>\n",
       "      <td>7:10</td>\n",
       "      <td>Homa Bay</td>\n",
       "      <td>Bus</td>\n",
       "      <td>49</td>\n",
       "      <td>5</td>\n",
       "      <td>2017-11-27 07:10:00</td>\n",
       "      <td>0</td>\n",
       "      <td>331</td>\n",
       "      <td>3</td>\n",
       "      <td>201748</td>\n",
       "      <td>7</td>\n",
       "      <td>10</td>\n",
       "      <td>0</td>\n",
       "      <td>2017</td>\n",
       "      <td>4</td>\n",
       "      <td>2</td>\n",
       "    </tr>\n",
       "    <tr>\n",
       "      <th>4</th>\n",
       "      <td>5778</td>\n",
       "      <td>27-11-17</td>\n",
       "      <td>7:12</td>\n",
       "      <td>Migori</td>\n",
       "      <td>Bus</td>\n",
       "      <td>49</td>\n",
       "      <td>31</td>\n",
       "      <td>2017-11-27 07:12:00</td>\n",
       "      <td>0</td>\n",
       "      <td>331</td>\n",
       "      <td>3</td>\n",
       "      <td>201748</td>\n",
       "      <td>7</td>\n",
       "      <td>12</td>\n",
       "      <td>0</td>\n",
       "      <td>2017</td>\n",
       "      <td>4</td>\n",
       "      <td>2</td>\n",
       "    </tr>\n",
       "  </tbody>\n",
       "</table>\n",
       "</div>"
      ],
      "text/plain": [
       "   ride_id travel_date travel_time travel_from car_type  max_capacity  \\\n",
       "0     1442    17-10-17        7:15      Migori      Bus            49   \n",
       "1     5437    19-11-17        7:12      Migori      Bus            49   \n",
       "2     5710    26-11-17        7:05      Keroka      Bus            49   \n",
       "3     5777    27-11-17        7:10    Homa Bay      Bus            49   \n",
       "4     5778    27-11-17        7:12      Migori      Bus            49   \n",
       "\n",
       "   number_of_ticket                date  day_of_week  day_of_year  \\\n",
       "0                 1 2017-10-17 07:15:00            1          290   \n",
       "1                 1 2017-11-19 07:12:00            6          323   \n",
       "2                 1 2017-11-26 07:05:00            6          330   \n",
       "3                 5 2017-11-27 07:10:00            0          331   \n",
       "4                31 2017-11-27 07:12:00            0          331   \n",
       "\n",
       "   day_of_month year_woy  hour  minute  is_weekend  year  quarter  month  \n",
       "0             2   201742     7      15           0  2017        4      3  \n",
       "1             2   201746     7      12           1  2017        4      2  \n",
       "2             3   201747     7       5           1  2017        4      2  \n",
       "3             3   201748     7      10           0  2017        4      2  \n",
       "4             3   201748     7      12           0  2017        4      2  "
      ]
     },
     "execution_count": 36,
     "metadata": {},
     "output_type": "execute_result"
    }
   ],
   "source": [
    "copy_data.head()"
   ]
  },
  {
   "cell_type": "code",
   "execution_count": 37,
   "id": "dcb46dfb",
   "metadata": {},
   "outputs": [],
   "source": [
    "from sklearn.preprocessing import LabelEncoder\n",
    "from sklearn.linear_model import LinearRegression\n",
    "model=LinearRegression()\n",
    "le=LabelEncoder()"
   ]
  },
  {
   "cell_type": "code",
   "execution_count": 38,
   "id": "1dcaacac",
   "metadata": {},
   "outputs": [],
   "source": [
    "copy_data['car_type']=le.fit_transform(copy_data['car_type'])"
   ]
  },
  {
   "cell_type": "code",
   "execution_count": 39,
   "id": "5dce18b8",
   "metadata": {},
   "outputs": [
    {
     "data": {
      "text/plain": [
       "array([0, 1])"
      ]
     },
     "execution_count": 39,
     "metadata": {},
     "output_type": "execute_result"
    }
   ],
   "source": [
    "copy_data['car_type'].unique()"
   ]
  },
  {
   "cell_type": "code",
   "execution_count": 40,
   "id": "ad4a6d25",
   "metadata": {},
   "outputs": [],
   "source": [
    "copy_data=pd.get_dummies(copy_data, columns=['travel_from','day_of_month','month'])"
   ]
  },
  {
   "cell_type": "code",
   "execution_count": 41,
   "id": "b2e3e7e8",
   "metadata": {},
   "outputs": [
    {
     "data": {
      "text/html": [
       "<div>\n",
       "<style scoped>\n",
       "    .dataframe tbody tr th:only-of-type {\n",
       "        vertical-align: middle;\n",
       "    }\n",
       "\n",
       "    .dataframe tbody tr th {\n",
       "        vertical-align: top;\n",
       "    }\n",
       "\n",
       "    .dataframe thead th {\n",
       "        text-align: right;\n",
       "    }\n",
       "</style>\n",
       "<table border=\"1\" class=\"dataframe\">\n",
       "  <thead>\n",
       "    <tr style=\"text-align: right;\">\n",
       "      <th></th>\n",
       "      <th>ride_id</th>\n",
       "      <th>travel_date</th>\n",
       "      <th>travel_time</th>\n",
       "      <th>car_type</th>\n",
       "      <th>max_capacity</th>\n",
       "      <th>number_of_ticket</th>\n",
       "      <th>date</th>\n",
       "      <th>day_of_week</th>\n",
       "      <th>day_of_year</th>\n",
       "      <th>year_woy</th>\n",
       "      <th>...</th>\n",
       "      <th>travel_from_Rodi</th>\n",
       "      <th>travel_from_Rongo</th>\n",
       "      <th>travel_from_Sirare</th>\n",
       "      <th>travel_from_Sori</th>\n",
       "      <th>day_of_month_1</th>\n",
       "      <th>day_of_month_2</th>\n",
       "      <th>day_of_month_3</th>\n",
       "      <th>month_1</th>\n",
       "      <th>month_2</th>\n",
       "      <th>month_3</th>\n",
       "    </tr>\n",
       "  </thead>\n",
       "  <tbody>\n",
       "    <tr>\n",
       "      <th>0</th>\n",
       "      <td>1442</td>\n",
       "      <td>17-10-17</td>\n",
       "      <td>7:15</td>\n",
       "      <td>0</td>\n",
       "      <td>49</td>\n",
       "      <td>1</td>\n",
       "      <td>2017-10-17 07:15:00</td>\n",
       "      <td>1</td>\n",
       "      <td>290</td>\n",
       "      <td>201742</td>\n",
       "      <td>...</td>\n",
       "      <td>0</td>\n",
       "      <td>0</td>\n",
       "      <td>0</td>\n",
       "      <td>0</td>\n",
       "      <td>0</td>\n",
       "      <td>1</td>\n",
       "      <td>0</td>\n",
       "      <td>0</td>\n",
       "      <td>0</td>\n",
       "      <td>1</td>\n",
       "    </tr>\n",
       "    <tr>\n",
       "      <th>1</th>\n",
       "      <td>5437</td>\n",
       "      <td>19-11-17</td>\n",
       "      <td>7:12</td>\n",
       "      <td>0</td>\n",
       "      <td>49</td>\n",
       "      <td>1</td>\n",
       "      <td>2017-11-19 07:12:00</td>\n",
       "      <td>6</td>\n",
       "      <td>323</td>\n",
       "      <td>201746</td>\n",
       "      <td>...</td>\n",
       "      <td>0</td>\n",
       "      <td>0</td>\n",
       "      <td>0</td>\n",
       "      <td>0</td>\n",
       "      <td>0</td>\n",
       "      <td>1</td>\n",
       "      <td>0</td>\n",
       "      <td>0</td>\n",
       "      <td>1</td>\n",
       "      <td>0</td>\n",
       "    </tr>\n",
       "    <tr>\n",
       "      <th>2</th>\n",
       "      <td>5710</td>\n",
       "      <td>26-11-17</td>\n",
       "      <td>7:05</td>\n",
       "      <td>0</td>\n",
       "      <td>49</td>\n",
       "      <td>1</td>\n",
       "      <td>2017-11-26 07:05:00</td>\n",
       "      <td>6</td>\n",
       "      <td>330</td>\n",
       "      <td>201747</td>\n",
       "      <td>...</td>\n",
       "      <td>0</td>\n",
       "      <td>0</td>\n",
       "      <td>0</td>\n",
       "      <td>0</td>\n",
       "      <td>0</td>\n",
       "      <td>0</td>\n",
       "      <td>1</td>\n",
       "      <td>0</td>\n",
       "      <td>1</td>\n",
       "      <td>0</td>\n",
       "    </tr>\n",
       "  </tbody>\n",
       "</table>\n",
       "<p>3 rows × 38 columns</p>\n",
       "</div>"
      ],
      "text/plain": [
       "   ride_id travel_date travel_time  car_type  max_capacity  number_of_ticket  \\\n",
       "0     1442    17-10-17        7:15         0            49                 1   \n",
       "1     5437    19-11-17        7:12         0            49                 1   \n",
       "2     5710    26-11-17        7:05         0            49                 1   \n",
       "\n",
       "                 date  day_of_week  day_of_year year_woy  ...  \\\n",
       "0 2017-10-17 07:15:00            1          290   201742  ...   \n",
       "1 2017-11-19 07:12:00            6          323   201746  ...   \n",
       "2 2017-11-26 07:05:00            6          330   201747  ...   \n",
       "\n",
       "   travel_from_Rodi  travel_from_Rongo  travel_from_Sirare  travel_from_Sori  \\\n",
       "0                 0                  0                   0                 0   \n",
       "1                 0                  0                   0                 0   \n",
       "2                 0                  0                   0                 0   \n",
       "\n",
       "   day_of_month_1  day_of_month_2  day_of_month_3  month_1  month_2  month_3  \n",
       "0               0               1               0        0        0        1  \n",
       "1               0               1               0        0        1        0  \n",
       "2               0               0               1        0        1        0  \n",
       "\n",
       "[3 rows x 38 columns]"
      ]
     },
     "execution_count": 41,
     "metadata": {},
     "output_type": "execute_result"
    }
   ],
   "source": [
    "copy_data.head(3)"
   ]
  },
  {
   "cell_type": "code",
   "execution_count": 42,
   "id": "fb40a2e4",
   "metadata": {},
   "outputs": [],
   "source": [
    "Target_name=copy_data[\"number_of_ticket\"]\n",
    "keys= copy_data[\"ride_id\"]\n",
    "not_used_cols=[\"ride_id\",\"travel_time\" ,\"travel_date\",\"date\",'year_woy','max_capacity','number_of_ticket']"
   ]
  },
  {
   "cell_type": "code",
   "execution_count": 43,
   "id": "24e78663",
   "metadata": {},
   "outputs": [],
   "source": [
    "fetures=copy_data.drop(not_used_cols,axis='columns',errors='ignore')"
   ]
  },
  {
   "cell_type": "code",
   "execution_count": 44,
   "id": "11800814",
   "metadata": {},
   "outputs": [
    {
     "name": "stdout",
     "output_type": "stream",
     "text": [
      "<class 'pandas.core.frame.DataFrame'>\n",
      "Int64Index: 6249 entries, 0 to 6248\n",
      "Data columns (total 31 columns):\n",
      " #   Column                 Non-Null Count  Dtype\n",
      "---  ------                 --------------  -----\n",
      " 0   car_type               6249 non-null   int32\n",
      " 1   day_of_week            6249 non-null   int64\n",
      " 2   day_of_year            6249 non-null   int64\n",
      " 3   hour                   6249 non-null   int64\n",
      " 4   minute                 6249 non-null   int64\n",
      " 5   is_weekend             6249 non-null   int64\n",
      " 6   year                   6249 non-null   int64\n",
      " 7   quarter                6249 non-null   int64\n",
      " 8   travel_from_Awendo     6249 non-null   uint8\n",
      " 9   travel_from_Homa Bay   6249 non-null   uint8\n",
      " 10  travel_from_Kehancha   6249 non-null   uint8\n",
      " 11  travel_from_Kendu Bay  6249 non-null   uint8\n",
      " 12  travel_from_Keroka     6249 non-null   uint8\n",
      " 13  travel_from_Keumbu     6249 non-null   uint8\n",
      " 14  travel_from_Kijauri    6249 non-null   uint8\n",
      " 15  travel_from_Kisii      6249 non-null   uint8\n",
      " 16  travel_from_Mbita      6249 non-null   uint8\n",
      " 17  travel_from_Migori     6249 non-null   uint8\n",
      " 18  travel_from_Ndhiwa     6249 non-null   uint8\n",
      " 19  travel_from_Nyachenge  6249 non-null   uint8\n",
      " 20  travel_from_Oyugis     6249 non-null   uint8\n",
      " 21  travel_from_Rodi       6249 non-null   uint8\n",
      " 22  travel_from_Rongo      6249 non-null   uint8\n",
      " 23  travel_from_Sirare     6249 non-null   uint8\n",
      " 24  travel_from_Sori       6249 non-null   uint8\n",
      " 25  day_of_month_1         6249 non-null   uint8\n",
      " 26  day_of_month_2         6249 non-null   uint8\n",
      " 27  day_of_month_3         6249 non-null   uint8\n",
      " 28  month_1                6249 non-null   uint8\n",
      " 29  month_2                6249 non-null   uint8\n",
      " 30  month_3                6249 non-null   uint8\n",
      "dtypes: int32(1), int64(7), uint8(23)\n",
      "memory usage: 555.3 KB\n"
     ]
    }
   ],
   "source": [
    "fetures.info()"
   ]
  },
  {
   "cell_type": "markdown",
   "id": "8a7c9723",
   "metadata": {},
   "source": [
    "\n",
    "## Linear Regression"
   ]
  },
  {
   "cell_type": "code",
   "execution_count": 45,
   "id": "5a34281b",
   "metadata": {},
   "outputs": [],
   "source": [
    "from sklearn.linear_model import LinearRegression\n",
    "from sklearn.model_selection import train_test_split\n",
    "from sklearn.metrics import r2_score"
   ]
  },
  {
   "cell_type": "code",
   "execution_count": 46,
   "id": "bc6523fd",
   "metadata": {},
   "outputs": [],
   "source": [
    "X=fetures\n",
    "y=Target_name"
   ]
  },
  {
   "cell_type": "code",
   "execution_count": 47,
   "id": "17d50abf",
   "metadata": {},
   "outputs": [
    {
     "data": {
      "text/plain": [
       "LinearRegression()"
      ]
     },
     "execution_count": 47,
     "metadata": {},
     "output_type": "execute_result"
    }
   ],
   "source": [
    "X_train, X_test, y_train, y_test = train_test_split(X,y,test_size=0.33, random_state=42)\n",
    "model = LinearRegression()\n",
    "model.fit(X_train, y_train)\n"
   ]
  },
  {
   "cell_type": "code",
   "execution_count": 48,
   "id": "ba5dde63",
   "metadata": {},
   "outputs": [],
   "source": [
    "y_pred = model.predict(X_test)"
   ]
  },
  {
   "cell_type": "code",
   "execution_count": 49,
   "id": "5a91d974",
   "metadata": {},
   "outputs": [],
   "source": [
    " #Find R-squared value\n",
    "r2 =r2_score(y_test, y_pred)\n",
    "train_score = model.score(X_train, y_train)\n",
    "test_score = model.score(X_test,y_test)\n",
    "y_train_pred = model.predict(X_train)\n",
    "y_test_pred = model.predict(X_test)"
   ]
  },
  {
   "cell_type": "code",
   "execution_count": 50,
   "id": "f33a76bb",
   "metadata": {},
   "outputs": [
    {
     "name": "stdout",
     "output_type": "stream",
     "text": [
      "R2 Score is = 0.40844821608770066\n",
      "Training Score is = 0.3686496346418562\n",
      "Training Score is = 0.40844821608770066\n"
     ]
    }
   ],
   "source": [
    "print(\"R2 Score is =\"  ,r2)\n",
    "print(\"Training Score is =\"  ,train_score)\n",
    "print(\"Training Score is =\"  ,test_score)\n"
   ]
  },
  {
   "cell_type": "code",
   "execution_count": 51,
   "id": "35213493",
   "metadata": {},
   "outputs": [],
   "source": [
    "import math\n",
    "def print_metrics(actual, predicted):\n",
    "  print('MSE is {}'.format(mean_squared_error(actual, predicted)))\n",
    "  print('RMSE is {}'.format(math.sqrt(mean_squared_error(actual, predicted))))\n",
    "  print('R2 is {}'.format(r2_score(actual, predicted)))\n",
    "  print('MAE is {}'.format(mean_absolute_error(actual, predicted)))\n",
    "  print('MAPE is {}'.format(np.mean(np.abs((actual - predicted) / actual)) * 100))"
   ]
  },
  {
   "cell_type": "code",
   "execution_count": 52,
   "id": "11530706",
   "metadata": {},
   "outputs": [
    {
     "name": "stdout",
     "output_type": "stream",
     "text": [
      "MSE is 45.27491151365616\n",
      "RMSE is 6.72866342698579\n",
      "R2 is 0.40844821608770066\n",
      "MAE is 4.617187535220779\n",
      "MAPE is 155.5850039574457\n"
     ]
    }
   ],
   "source": [
    "\n",
    "print_metrics(y_test, y_test_pred)"
   ]
  },
  {
   "cell_type": "markdown",
   "id": "2fa215c9",
   "metadata": {},
   "source": [
    "## Implementing Lasso Regression"
   ]
  },
  {
   "cell_type": "code",
   "execution_count": 53,
   "id": "d153a2d8",
   "metadata": {},
   "outputs": [],
   "source": [
    "\n",
    "from sklearn.linear_model import Lasso\n"
   ]
  },
  {
   "cell_type": "code",
   "execution_count": 54,
   "id": "b2961695",
   "metadata": {},
   "outputs": [
    {
     "name": "stdout",
     "output_type": "stream",
     "text": [
      "alpha:  0.01\n",
      "test Score:  0.40551557487966605\n",
      "train Score:  0.366645063238098\n",
      "alpha:  0.025\n",
      "test Score:  0.39739082601967257\n",
      "train Score:  0.36031069795566784\n",
      "alpha:  0.5\n",
      "test Score:  0.11537026797679828\n",
      "train Score:  0.09544617287740176\n",
      "alpha:  0.8\n",
      "test Score:  0.06398181623288657\n",
      "train Score:  0.044586343519411153\n",
      "alpha:  0.75\n",
      "test Score:  0.0643736292632009\n",
      "train Score:  0.04471337959391253\n",
      "alpha:  1\n",
      "test Score:  0.06232943918750444\n",
      "train Score:  0.043996253260866536\n"
     ]
    }
   ],
   "source": [
    "X_train, X_test, y_train, y_test = train_test_split(X,y,test_size=0.33, random_state=42)\n",
    "alphas = [0.01,0.025,0.5,0.8,0.75,1]\n",
    "for alpha in alphas:\n",
    "  lasso  = Lasso(alpha=alpha , max_iter= 3000)\n",
    "  lasso.fit(X_train, y_train)\n",
    "  print('alpha: ',alpha)\n",
    "  print('test Score: ',lasso.score(X_test, y_test))\n",
    "  print('train Score: ',lasso.score(X_train, y_train))"
   ]
  },
  {
   "cell_type": "markdown",
   "id": "deb600db",
   "metadata": {},
   "source": [
    "We see that at alpha = 0.01 it give best out of those"
   ]
  },
  {
   "cell_type": "code",
   "execution_count": 55,
   "id": "d689c8e9",
   "metadata": {},
   "outputs": [
    {
     "name": "stdout",
     "output_type": "stream",
     "text": [
      "MSE is 71.76540215799594\n",
      "RMSE is 8.471446284902946\n",
      "MAE is 5.9840719906724775\n"
     ]
    }
   ],
   "source": [
    "\n",
    "y_test_pred = lasso.predict(X_test)\n",
    "print('MSE is {}'.format(mean_squared_error(y_test, y_test_pred)))\n",
    "print('RMSE is {}'.format(math.sqrt(mean_squared_error(y_test, y_test_pred))))\n",
    "print('MAE is {}'.format(mean_absolute_error(y_test, y_test_pred)))\n",
    "\n"
   ]
  },
  {
   "cell_type": "markdown",
   "id": "acf2121a",
   "metadata": {},
   "source": [
    "## Training XGboost"
   ]
  },
  {
   "cell_type": "code",
   "execution_count": 56,
   "id": "2ddd6b1a",
   "metadata": {},
   "outputs": [],
   "source": [
    "import xgboost as xgb\n",
    "from sklearn.model_selection import GridSearchCV\n",
    "from sklearn.metrics import accuracy_score\n",
    "\n",
    "xgb = xgb.XGBRegressor()"
   ]
  },
  {
   "cell_type": "code",
   "execution_count": 57,
   "id": "52bbd6e2",
   "metadata": {},
   "outputs": [
    {
     "data": {
      "text/plain": [
       "XGBRegressor(base_score=None, booster=None, callbacks=None,\n",
       "             colsample_bylevel=None, colsample_bynode=None,\n",
       "             colsample_bytree=None, early_stopping_rounds=None,\n",
       "             enable_categorical=False, eval_metric=None, feature_types=None,\n",
       "             gamma=None, gpu_id=None, grow_policy=None, importance_type=None,\n",
       "             interaction_constraints=None, learning_rate=None, max_bin=None,\n",
       "             max_cat_threshold=None, max_cat_to_onehot=None,\n",
       "             max_delta_step=None, max_depth=None, max_leaves=None,\n",
       "             min_child_weight=None, missing=nan, monotone_constraints=None,\n",
       "             n_estimators=100, n_jobs=None, num_parallel_tree=None,\n",
       "             predictor=None, random_state=None, ...)"
      ]
     },
     "execution_count": 57,
     "metadata": {},
     "output_type": "execute_result"
    }
   ],
   "source": [
    "\n",
    "\n",
    "X_train, X_test, y_train, y_test = train_test_split(X,y,test_size=0.33, random_state=42)\n",
    "\n",
    "xgb.fit(X_train, y_train)\n",
    " \n"
   ]
  },
  {
   "cell_type": "code",
   "execution_count": 69,
   "id": "bb8d63b2",
   "metadata": {},
   "outputs": [],
   "source": [
    "# make predictions for test data\n",
    "y_pred = model.predict(X_test)\n",
    "predictions = [round(value) for value in y_pred]"
   ]
  },
  {
   "cell_type": "code",
   "execution_count": 59,
   "id": "5022cca7",
   "metadata": {},
   "outputs": [
    {
     "data": {
      "text/plain": [
       "0.8838631894596994"
      ]
     },
     "execution_count": 59,
     "metadata": {},
     "output_type": "execute_result"
    }
   ],
   "source": [
    "xgb.score(X_train,y_train)"
   ]
  },
  {
   "cell_type": "code",
   "execution_count": 60,
   "id": "a617e366",
   "metadata": {
    "scrolled": true
   },
   "outputs": [
    {
     "data": {
      "text/plain": [
       "0.6041593691041987"
      ]
     },
     "execution_count": 60,
     "metadata": {},
     "output_type": "execute_result"
    }
   ],
   "source": [
    "xgb.score(X_test,y_test)\n"
   ]
  },
  {
   "cell_type": "markdown",
   "id": "db5a5aaf",
   "metadata": {},
   "source": [
    "## Random Forest Regressor"
   ]
  },
  {
   "cell_type": "code",
   "execution_count": 61,
   "id": "5fcd7f4d",
   "metadata": {},
   "outputs": [],
   "source": [
    "from sklearn.ensemble import RandomForestRegressor"
   ]
  },
  {
   "cell_type": "code",
   "execution_count": 62,
   "id": "e1dc03b5",
   "metadata": {},
   "outputs": [
    {
     "data": {
      "text/plain": [
       "RandomForestRegressor()"
      ]
     },
     "execution_count": 62,
     "metadata": {},
     "output_type": "execute_result"
    }
   ],
   "source": [
    "\n",
    "rf=RandomForestRegressor()\n",
    "\n",
    "X_train, X_test, y_train, y_test = train_test_split(X,y,test_size=0.33, random_state=42)\n",
    "\n",
    "rf.fit(X_train,y_train)\n"
   ]
  },
  {
   "cell_type": "code",
   "execution_count": 63,
   "id": "b9fc3b07",
   "metadata": {},
   "outputs": [
    {
     "data": {
      "text/plain": [
       "0.9435977578460399"
      ]
     },
     "execution_count": 63,
     "metadata": {},
     "output_type": "execute_result"
    }
   ],
   "source": [
    "rf.score(X_train,y_train)"
   ]
  },
  {
   "cell_type": "code",
   "execution_count": 64,
   "id": "f7280d5f",
   "metadata": {},
   "outputs": [
    {
     "data": {
      "text/plain": [
       "0.5831083984538001"
      ]
     },
     "execution_count": 64,
     "metadata": {},
     "output_type": "execute_result"
    }
   ],
   "source": [
    "rf.score(X_test,y_test)\n",
    "\n"
   ]
  },
  {
   "cell_type": "markdown",
   "id": "56f4d7cd",
   "metadata": {},
   "source": [
    "\n",
    "## Conclusion\n",
    "\n",
    "### We used diffent type of regression algorithms to train our model like, Linear Regression, Regularized linear regression (Lasso), GBM,Random Forest Regressor, XGboost regresssor. and Also we tuned the parameters of Random forest regressor and XGboost regressor and also found the important features for training the model. Out of them XGboost with tuned hyperparameters gave the best result.\n"
   ]
  },
  {
   "cell_type": "code",
   "execution_count": null,
   "id": "caceefb5",
   "metadata": {
    "scrolled": true
   },
   "outputs": [],
   "source": []
  },
  {
   "cell_type": "code",
   "execution_count": null,
   "id": "5be15bbc",
   "metadata": {},
   "outputs": [],
   "source": []
  }
 ],
 "metadata": {
  "kernelspec": {
   "display_name": "Python 3 (ipykernel)",
   "language": "python",
   "name": "python3"
  },
  "language_info": {
   "codemirror_mode": {
    "name": "ipython",
    "version": 3
   },
   "file_extension": ".py",
   "mimetype": "text/x-python",
   "name": "python",
   "nbconvert_exporter": "python",
   "pygments_lexer": "ipython3",
   "version": "3.9.12"
  }
 },
 "nbformat": 4,
 "nbformat_minor": 5
}
